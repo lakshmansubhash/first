{
 "cells": [
  {
   "cell_type": "code",
   "execution_count": 1,
   "metadata": {},
   "outputs": [],
   "source": [
    "#Import and initiate findspark Then import pyspark\n",
    "\n",
    "import findspark\n",
    "\n",
    "findspark.init(\"/usr/local/spark\")\n",
    "\n",
    "import pyspark"
   ]
  },
  {
   "cell_type": "code",
   "execution_count": 13,
   "metadata": {},
   "outputs": [],
   "source": [
    "from pyspark.sql import SparkSession\n",
    "appName = \"PySpark Hive Example\"\n",
    "master = \"local\"\n",
    "# Create Spark session with Hive supported.\n",
    "spark = SparkSession.builder \\\n",
    ".appName(appName) \\\n",
    ".master(master) \\\n",
    ".enableHiveSupport() \\\n",
    ".getOrCreate()"
   ]
  },
  {
   "cell_type": "markdown",
   "metadata": {},
   "source": [
    "## 3.1 Q1) Develop a PySpark application to load data Spark DataFrames and save it into Hive tables on a Hadoop cluster in an optimized format."
   ]
  },
  {
   "cell_type": "code",
   "execution_count": 17,
   "metadata": {},
   "outputs": [],
   "source": [
    "CarSales = spark.read.format(\"csv\").option(\"header\",\"true\").load(\"Car_sales_details_p3.csv\")"
   ]
  },
  {
   "cell_type": "code",
   "execution_count": 18,
   "metadata": {},
   "outputs": [],
   "source": [
    "salesStatus = spark.read.format(\"csv\").option(\"header\",\"true\").load(\"sales_Status_p3.csv\")"
   ]
  },
  {
   "cell_type": "code",
   "execution_count": 19,
   "metadata": {},
   "outputs": [],
   "source": [
    "region = spark.read.format(\"csv\").option(\"header\",\"true\").load(\"State_region_mapping_p3.csv\")"
   ]
  },
  {
   "cell_type": "code",
   "execution_count": 20,
   "metadata": {},
   "outputs": [
    {
     "name": "stdout",
     "output_type": "stream",
     "text": [
      "+--------+--------------------+----+-------------+---------+--------------------+-------------+------+-----------+------------+------------+----------+-------+----------+-----+\n",
      "|Sales_ID|                name|year|selling_price|km_driven|   State or Province|         City|  fuel|seller_type|transmission|       owner|   mileage| engine| max_power|seats|\n",
      "+--------+--------------------+----+-------------+---------+--------------------+-------------+------+-----------+------------+------------+----------+-------+----------+-----+\n",
      "|       1|Maruti Swift Dzir...|2014|       450000|   145500|District of Columbia|   Washington|Diesel| Individual|      Manual| First Owner| 23.4 kmpl|1248 CC|    74 bhp|    5|\n",
      "|       2|Skoda Rapid 1.5 T...|2014|       370000|   120000|            New York|New York City|Diesel| Individual|      Manual|Second Owner|21.14 kmpl|1498 CC|103.52 bhp|    5|\n",
      "|       3|Honda City 2017-2...|2006|       158000|   140000|            Illinois|      Chicago|Petrol| Individual|      Manual| Third Owner| 17.7 kmpl|1497 CC|    78 bhp|    5|\n",
      "|       4|Hyundai i20 Sport...|2010|       225000|   127000|            Illinois|      Chicago|Diesel| Individual|      Manual| First Owner| 23.0 kmpl|1396 CC|    90 bhp|    5|\n",
      "|       5|Maruti Swift VXI ...|2007|       130000|   120000|            New York|New York City|Petrol| Individual|      Manual| First Owner| 16.1 kmpl|1298 CC|  88.2 bhp|    5|\n",
      "|       6|Hyundai Xcent 1.2...|2017|       440000|    45000|            New York|New York City|Petrol| Individual|      Manual| First Owner|20.14 kmpl|1197 CC| 81.86 bhp|    5|\n",
      "|       7|Maruti Wagon R LX...|2007|        96000|   175000|          California|  Los Angeles|   LPG| Individual|      Manual| First Owner|17.3 km/kg|1061 CC|  57.5 bhp|    5|\n",
      "|       8|  Maruti 800 DX BSII|2001|        45000|     5000|          California|  Los Angeles|Petrol| Individual|      Manual|Second Owner| 16.1 kmpl| 796 CC|    37 bhp|    4|\n",
      "|       9|    Toyota Etios VXD|2011|       350000|    90000|          California|  Los Angeles|Diesel| Individual|      Manual| First Owner|23.59 kmpl|1364 CC|  67.1 bhp|    5|\n",
      "|      10|Ford Figo Diesel ...|2013|       200000|   169000|               Texas|      Houston|Diesel| Individual|      Manual| First Owner| 20.0 kmpl|1399 CC|  68.1 bhp|    5|\n",
      "|      11|Renault Duster 11...|2014|       500000|    68000|            New York|New York City|Diesel| Individual|      Manual|Second Owner|19.01 kmpl|1461 CC|108.45 bhp|    5|\n",
      "|      12|       Maruti Zen LX|2005|        92000|   100000|               Texas|      Houston|Petrol| Individual|      Manual|Second Owner| 17.3 kmpl| 993 CC|    60 bhp|    5|\n",
      "|      13|Maruti Swift Dzir...|2009|       280000|   140000|               Texas|      Houston|Diesel| Individual|      Manual|Second Owner| 19.3 kmpl|1248 CC|  73.9 bhp|    5|\n",
      "|      15|Maruti Wagon R LX...|2009|       180000|    90000|       Massachusetts|       Boston|Petrol| Individual|      Manual|Second Owner| 18.9 kmpl|1061 CC|    67 bhp|    5|\n",
      "|      16|Mahindra KUV 100 ...|2016|       400000|    40000|       Massachusetts|       Boston|Petrol| Individual|      Manual| First Owner|18.15 kmpl|1198 CC|    82 bhp|    5|\n",
      "|      17|Maruti Ertiga SHV...|2016|       778000|    70000|               Texas|       Dallas|Diesel| Individual|      Manual|Second Owner|24.52 kmpl|1248 CC|  88.5 bhp|    7|\n",
      "|      18|Hyundai i20 1.4 C...|2012|       500000|    53000|               Texas|       Dallas|Diesel| Individual|      Manual|Second Owner| 23.0 kmpl|1396 CC|    90 bhp|    5|\n",
      "|      19|      Maruti Alto LX|2002|       150000|    80000|               Texas|       Dallas|Petrol| Individual|      Manual|Second Owner| 19.7 kmpl| 796 CC|  46.3 bhp|    5|\n",
      "|      20|Hyundai i20 2015-...|2016|       680000|   100000|            New York|New York City|Diesel| Individual|      Manual| First Owner|22.54 kmpl|1396 CC| 88.73 bhp|    5|\n",
      "|      21|Mahindra Verito 1...|2011|       174000|   100000|            New York|New York City|Diesel| Individual|      Manual|Second Owner| 21.0 kmpl|1461 CC|  64.1 bhp|    5|\n",
      "+--------+--------------------+----+-------------+---------+--------------------+-------------+------+-----------+------------+------------+----------+-------+----------+-----+\n",
      "only showing top 20 rows\n",
      "\n"
     ]
    }
   ],
   "source": [
    "CarSales.show()"
   ]
  },
  {
   "cell_type": "code",
   "execution_count": 21,
   "metadata": {},
   "outputs": [
    {
     "name": "stdout",
     "output_type": "stream",
     "text": [
      "+--------+----+\n",
      "|Sales_ID|sold|\n",
      "+--------+----+\n",
      "|       1|   Y|\n",
      "|       2|   Y|\n",
      "|       3|   Y|\n",
      "|       4|   Y|\n",
      "|       5|   Y|\n",
      "|       6|   Y|\n",
      "|       7|   Y|\n",
      "|       8|   Y|\n",
      "|       9|   Y|\n",
      "|      10|   Y|\n",
      "|      11|   Y|\n",
      "|      12|   Y|\n",
      "|      13|   Y|\n",
      "|      15|   Y|\n",
      "|      16|   Y|\n",
      "|      17|   Y|\n",
      "|      18|   Y|\n",
      "|      19|   Y|\n",
      "|      20|   Y|\n",
      "|      21|   Y|\n",
      "+--------+----+\n",
      "only showing top 20 rows\n",
      "\n"
     ]
    }
   ],
   "source": [
    "salesStatus.show()"
   ]
  },
  {
   "cell_type": "code",
   "execution_count": 25,
   "metadata": {},
   "outputs": [
    {
     "name": "stdout",
     "output_type": "stream",
     "text": [
      "root\n",
      " |-- Region: string (nullable = true)\n",
      " |-- State or Province: string (nullable = true)\n",
      "\n"
     ]
    }
   ],
   "source": [
    "region.printSchema()"
   ]
  },
  {
   "cell_type": "code",
   "execution_count": 30,
   "metadata": {},
   "outputs": [
    {
     "name": "stdout",
     "output_type": "stream",
     "text": [
      "root\n",
      " |-- Sales_ID: string (nullable = true)\n",
      " |-- name: string (nullable = true)\n",
      " |-- year: string (nullable = true)\n",
      " |-- selling_price: string (nullable = true)\n",
      " |-- km_driven: string (nullable = true)\n",
      " |-- State_or_Province: string (nullable = true)\n",
      " |-- City: string (nullable = true)\n",
      " |-- fuel: string (nullable = true)\n",
      " |-- seller_type: string (nullable = true)\n",
      " |-- transmission: string (nullable = true)\n",
      " |-- owner: string (nullable = true)\n",
      " |-- mileage: string (nullable = true)\n",
      " |-- engine: string (nullable = true)\n",
      " |-- max_power: string (nullable = true)\n",
      " |-- seats: string (nullable = true)\n",
      "\n"
     ]
    }
   ],
   "source": [
    "CarSales=CarSales.withColumnRenamed(\"State or Province\",\"State_or_Province\")\n",
    "region=region.withColumnRenamed(\"State or Province\",\"State_or_Province\")\n",
    "CarSales.printSchema()\n"
   ]
  },
  {
   "cell_type": "code",
   "execution_count": 54,
   "metadata": {},
   "outputs": [
    {
     "name": "stdout",
     "output_type": "stream",
     "text": [
      "+--------+--------------------+----+-------------+---------+--------------------+-------------+------+-----------+------------+------------+----------+-------+----------+-----+----+\n",
      "|Sales_ID|                name|year|selling_price|km_driven|   State_or_Province|         City|  fuel|seller_type|transmission|       owner|   mileage| engine| max_power|seats|sold|\n",
      "+--------+--------------------+----+-------------+---------+--------------------+-------------+------+-----------+------------+------------+----------+-------+----------+-----+----+\n",
      "|       1|Maruti Swift Dzir...|2014|       450000|   145500|District of Columbia|   Washington|Diesel| Individual|      Manual| First Owner| 23.4 kmpl|1248 CC|    74 bhp|    5|   Y|\n",
      "|       2|Skoda Rapid 1.5 T...|2014|       370000|   120000|            New York|New York City|Diesel| Individual|      Manual|Second Owner|21.14 kmpl|1498 CC|103.52 bhp|    5|   Y|\n",
      "|       3|Honda City 2017-2...|2006|       158000|   140000|            Illinois|      Chicago|Petrol| Individual|      Manual| Third Owner| 17.7 kmpl|1497 CC|    78 bhp|    5|   Y|\n",
      "|       4|Hyundai i20 Sport...|2010|       225000|   127000|            Illinois|      Chicago|Diesel| Individual|      Manual| First Owner| 23.0 kmpl|1396 CC|    90 bhp|    5|   Y|\n",
      "|       5|Maruti Swift VXI ...|2007|       130000|   120000|            New York|New York City|Petrol| Individual|      Manual| First Owner| 16.1 kmpl|1298 CC|  88.2 bhp|    5|   Y|\n",
      "|       6|Hyundai Xcent 1.2...|2017|       440000|    45000|            New York|New York City|Petrol| Individual|      Manual| First Owner|20.14 kmpl|1197 CC| 81.86 bhp|    5|   Y|\n",
      "|       7|Maruti Wagon R LX...|2007|        96000|   175000|          California|  Los Angeles|   LPG| Individual|      Manual| First Owner|17.3 km/kg|1061 CC|  57.5 bhp|    5|   Y|\n",
      "|       8|  Maruti 800 DX BSII|2001|        45000|     5000|          California|  Los Angeles|Petrol| Individual|      Manual|Second Owner| 16.1 kmpl| 796 CC|    37 bhp|    4|   Y|\n",
      "|       9|    Toyota Etios VXD|2011|       350000|    90000|          California|  Los Angeles|Diesel| Individual|      Manual| First Owner|23.59 kmpl|1364 CC|  67.1 bhp|    5|   Y|\n",
      "|      10|Ford Figo Diesel ...|2013|       200000|   169000|               Texas|      Houston|Diesel| Individual|      Manual| First Owner| 20.0 kmpl|1399 CC|  68.1 bhp|    5|   Y|\n",
      "|      11|Renault Duster 11...|2014|       500000|    68000|            New York|New York City|Diesel| Individual|      Manual|Second Owner|19.01 kmpl|1461 CC|108.45 bhp|    5|   Y|\n",
      "|      12|       Maruti Zen LX|2005|        92000|   100000|               Texas|      Houston|Petrol| Individual|      Manual|Second Owner| 17.3 kmpl| 993 CC|    60 bhp|    5|   Y|\n",
      "|      13|Maruti Swift Dzir...|2009|       280000|   140000|               Texas|      Houston|Diesel| Individual|      Manual|Second Owner| 19.3 kmpl|1248 CC|  73.9 bhp|    5|   Y|\n",
      "|      15|Maruti Wagon R LX...|2009|       180000|    90000|       Massachusetts|       Boston|Petrol| Individual|      Manual|Second Owner| 18.9 kmpl|1061 CC|    67 bhp|    5|   Y|\n",
      "|      16|Mahindra KUV 100 ...|2016|       400000|    40000|       Massachusetts|       Boston|Petrol| Individual|      Manual| First Owner|18.15 kmpl|1198 CC|    82 bhp|    5|   Y|\n",
      "|      17|Maruti Ertiga SHV...|2016|       778000|    70000|               Texas|       Dallas|Diesel| Individual|      Manual|Second Owner|24.52 kmpl|1248 CC|  88.5 bhp|    7|   Y|\n",
      "|      18|Hyundai i20 1.4 C...|2012|       500000|    53000|               Texas|       Dallas|Diesel| Individual|      Manual|Second Owner| 23.0 kmpl|1396 CC|    90 bhp|    5|   Y|\n",
      "|      19|      Maruti Alto LX|2002|       150000|    80000|               Texas|       Dallas|Petrol| Individual|      Manual|Second Owner| 19.7 kmpl| 796 CC|  46.3 bhp|    5|   Y|\n",
      "|      20|Hyundai i20 2015-...|2016|       680000|   100000|            New York|New York City|Diesel| Individual|      Manual| First Owner|22.54 kmpl|1396 CC| 88.73 bhp|    5|   Y|\n",
      "|      21|Mahindra Verito 1...|2011|       174000|   100000|            New York|New York City|Diesel| Individual|      Manual|Second Owner| 21.0 kmpl|1461 CC|  64.1 bhp|    5|   Y|\n",
      "+--------+--------------------+----+-------------+---------+--------------------+-------------+------+-----------+------------+------------+----------+-------+----------+-----+----+\n",
      "only showing top 20 rows\n",
      "\n"
     ]
    }
   ],
   "source": [
    "New_cars=New_cars.join(region,['State_or_Province'])\n",
    "New_cars=CarSales.join(salesStatus,['Sales_ID'])\n",
    "New_cars.show()"
   ]
  },
  {
   "cell_type": "code",
   "execution_count": 47,
   "metadata": {},
   "outputs": [
    {
     "name": "stdout",
     "output_type": "stream",
     "text": [
      "+--------+--------------------+----+-------------+---------+--------------------+-------------+------+-----------+------------+------------+----------+-------+----------+-----+\n",
      "|Sales_ID|                name|year|selling_price|km_driven|   State_or_Province|         City|  fuel|seller_type|transmission|       owner|   mileage| engine| max_power|seats|\n",
      "+--------+--------------------+----+-------------+---------+--------------------+-------------+------+-----------+------------+------------+----------+-------+----------+-----+\n",
      "|       1|Maruti Swift Dzir...|2014|       450000|   145500|District of Columbia|   Washington|Diesel| Individual|      Manual| First Owner| 23.4 kmpl|1248 CC|    74 bhp|    5|\n",
      "|       2|Skoda Rapid 1.5 T...|2014|       370000|   120000|            New York|New York City|Diesel| Individual|      Manual|Second Owner|21.14 kmpl|1498 CC|103.52 bhp|    5|\n",
      "|       3|Honda City 2017-2...|2006|       158000|   140000|            Illinois|      Chicago|Petrol| Individual|      Manual| Third Owner| 17.7 kmpl|1497 CC|    78 bhp|    5|\n",
      "|       4|Hyundai i20 Sport...|2010|       225000|   127000|            Illinois|      Chicago|Diesel| Individual|      Manual| First Owner| 23.0 kmpl|1396 CC|    90 bhp|    5|\n",
      "|       5|Maruti Swift VXI ...|2007|       130000|   120000|            New York|New York City|Petrol| Individual|      Manual| First Owner| 16.1 kmpl|1298 CC|  88.2 bhp|    5|\n",
      "|       6|Hyundai Xcent 1.2...|2017|       440000|    45000|            New York|New York City|Petrol| Individual|      Manual| First Owner|20.14 kmpl|1197 CC| 81.86 bhp|    5|\n",
      "|       7|Maruti Wagon R LX...|2007|        96000|   175000|          California|  Los Angeles|   LPG| Individual|      Manual| First Owner|17.3 km/kg|1061 CC|  57.5 bhp|    5|\n",
      "|       8|  Maruti 800 DX BSII|2001|        45000|     5000|          California|  Los Angeles|Petrol| Individual|      Manual|Second Owner| 16.1 kmpl| 796 CC|    37 bhp|    4|\n",
      "|       9|    Toyota Etios VXD|2011|       350000|    90000|          California|  Los Angeles|Diesel| Individual|      Manual| First Owner|23.59 kmpl|1364 CC|  67.1 bhp|    5|\n",
      "|      10|Ford Figo Diesel ...|2013|       200000|   169000|               Texas|      Houston|Diesel| Individual|      Manual| First Owner| 20.0 kmpl|1399 CC|  68.1 bhp|    5|\n",
      "|      11|Renault Duster 11...|2014|       500000|    68000|            New York|New York City|Diesel| Individual|      Manual|Second Owner|19.01 kmpl|1461 CC|108.45 bhp|    5|\n",
      "|      12|       Maruti Zen LX|2005|        92000|   100000|               Texas|      Houston|Petrol| Individual|      Manual|Second Owner| 17.3 kmpl| 993 CC|    60 bhp|    5|\n",
      "|      13|Maruti Swift Dzir...|2009|       280000|   140000|               Texas|      Houston|Diesel| Individual|      Manual|Second Owner| 19.3 kmpl|1248 CC|  73.9 bhp|    5|\n",
      "|      15|Maruti Wagon R LX...|2009|       180000|    90000|       Massachusetts|       Boston|Petrol| Individual|      Manual|Second Owner| 18.9 kmpl|1061 CC|    67 bhp|    5|\n",
      "|      16|Mahindra KUV 100 ...|2016|       400000|    40000|       Massachusetts|       Boston|Petrol| Individual|      Manual| First Owner|18.15 kmpl|1198 CC|    82 bhp|    5|\n",
      "|      17|Maruti Ertiga SHV...|2016|       778000|    70000|               Texas|       Dallas|Diesel| Individual|      Manual|Second Owner|24.52 kmpl|1248 CC|  88.5 bhp|    7|\n",
      "|      18|Hyundai i20 1.4 C...|2012|       500000|    53000|               Texas|       Dallas|Diesel| Individual|      Manual|Second Owner| 23.0 kmpl|1396 CC|    90 bhp|    5|\n",
      "|      19|      Maruti Alto LX|2002|       150000|    80000|               Texas|       Dallas|Petrol| Individual|      Manual|Second Owner| 19.7 kmpl| 796 CC|  46.3 bhp|    5|\n",
      "|      20|Hyundai i20 2015-...|2016|       680000|   100000|            New York|New York City|Diesel| Individual|      Manual| First Owner|22.54 kmpl|1396 CC| 88.73 bhp|    5|\n",
      "|      21|Mahindra Verito 1...|2011|       174000|   100000|            New York|New York City|Diesel| Individual|      Manual|Second Owner| 21.0 kmpl|1461 CC|  64.1 bhp|    5|\n",
      "+--------+--------------------+----+-------------+---------+--------------------+-------------+------+-----------+------------+------------+----------+-------+----------+-----+\n",
      "only showing top 20 rows\n",
      "\n"
     ]
    }
   ],
   "source": [
    "# Save df to a new table in Hive\n",
    "CarSales.write.mode(\"overwrite\").saveAsTable(\"CarSales\")\n",
    "# Show the results using SELECT\n",
    "spark.sql(\"select * from CarSales\").show() "
   ]
  },
  {
   "cell_type": "code",
   "execution_count": 48,
   "metadata": {},
   "outputs": [
    {
     "name": "stdout",
     "output_type": "stream",
     "text": [
      "+--------+----+\n",
      "|Sales_ID|sold|\n",
      "+--------+----+\n",
      "|       1|   Y|\n",
      "|       2|   Y|\n",
      "|       3|   Y|\n",
      "|       4|   Y|\n",
      "|       5|   Y|\n",
      "|       6|   Y|\n",
      "|       7|   Y|\n",
      "|       8|   Y|\n",
      "|       9|   Y|\n",
      "|      10|   Y|\n",
      "|      11|   Y|\n",
      "|      12|   Y|\n",
      "|      13|   Y|\n",
      "|      15|   Y|\n",
      "|      16|   Y|\n",
      "|      17|   Y|\n",
      "|      18|   Y|\n",
      "|      19|   Y|\n",
      "|      20|   Y|\n",
      "|      21|   Y|\n",
      "+--------+----+\n",
      "only showing top 20 rows\n",
      "\n"
     ]
    }
   ],
   "source": [
    "# Save df to a new table in Hive\n",
    "salesStatus.write.mode(\"overwrite\").saveAsTable(\"salesStatus\")\n",
    "# Show the results using SELECT\n",
    "spark.sql(\"select * from salesStatus\").show() "
   ]
  },
  {
   "cell_type": "code",
   "execution_count": 46,
   "metadata": {},
   "outputs": [
    {
     "name": "stdout",
     "output_type": "stream",
     "text": [
      "+-------+--------------------+\n",
      "| Region|   State_or_Province|\n",
      "+-------+--------------------+\n",
      "|Central|            Illinois|\n",
      "|Central|             Indiana|\n",
      "|Central|                Iowa|\n",
      "|Central|              Kansas|\n",
      "|Central|            Michigan|\n",
      "|Central|           Minnesota|\n",
      "|Central|            Missouri|\n",
      "|Central|            Nebraska|\n",
      "|Central|        North Dakota|\n",
      "|Central|            Oklahoma|\n",
      "|Central|        South Dakota|\n",
      "|Central|               Texas|\n",
      "|Central|           Wisconsin|\n",
      "|   East|         Connecticut|\n",
      "|   East|            Delaware|\n",
      "|   East|District of Columbia|\n",
      "|   East|               Maine|\n",
      "|   East|            Maryland|\n",
      "|   East|       Massachusetts|\n",
      "|   East|       New Hampshire|\n",
      "+-------+--------------------+\n",
      "only showing top 20 rows\n",
      "\n"
     ]
    }
   ],
   "source": [
    "# Save df to a new table in Hive\n",
    "region.write.mode(\"overwrite\").saveAsTable(\"region\")\n",
    "# Show the results using SELECT\n",
    "spark.sql(\"select * from region\").show() "
   ]
  },
  {
   "cell_type": "code",
   "execution_count": 55,
   "metadata": {},
   "outputs": [
    {
     "name": "stdout",
     "output_type": "stream",
     "text": [
      "+--------+--------------------+----+-------------+---------+--------------------+-------------+------+-----------+------------+------------+----------+-------+----------+-----+----+\n",
      "|Sales_ID|                name|year|selling_price|km_driven|   State_or_Province|         City|  fuel|seller_type|transmission|       owner|   mileage| engine| max_power|seats|sold|\n",
      "+--------+--------------------+----+-------------+---------+--------------------+-------------+------+-----------+------------+------------+----------+-------+----------+-----+----+\n",
      "|       1|Maruti Swift Dzir...|2014|       450000|   145500|District of Columbia|   Washington|Diesel| Individual|      Manual| First Owner| 23.4 kmpl|1248 CC|    74 bhp|    5|   Y|\n",
      "|       2|Skoda Rapid 1.5 T...|2014|       370000|   120000|            New York|New York City|Diesel| Individual|      Manual|Second Owner|21.14 kmpl|1498 CC|103.52 bhp|    5|   Y|\n",
      "|       3|Honda City 2017-2...|2006|       158000|   140000|            Illinois|      Chicago|Petrol| Individual|      Manual| Third Owner| 17.7 kmpl|1497 CC|    78 bhp|    5|   Y|\n",
      "|       4|Hyundai i20 Sport...|2010|       225000|   127000|            Illinois|      Chicago|Diesel| Individual|      Manual| First Owner| 23.0 kmpl|1396 CC|    90 bhp|    5|   Y|\n",
      "|       5|Maruti Swift VXI ...|2007|       130000|   120000|            New York|New York City|Petrol| Individual|      Manual| First Owner| 16.1 kmpl|1298 CC|  88.2 bhp|    5|   Y|\n",
      "|       6|Hyundai Xcent 1.2...|2017|       440000|    45000|            New York|New York City|Petrol| Individual|      Manual| First Owner|20.14 kmpl|1197 CC| 81.86 bhp|    5|   Y|\n",
      "|       7|Maruti Wagon R LX...|2007|        96000|   175000|          California|  Los Angeles|   LPG| Individual|      Manual| First Owner|17.3 km/kg|1061 CC|  57.5 bhp|    5|   Y|\n",
      "|       8|  Maruti 800 DX BSII|2001|        45000|     5000|          California|  Los Angeles|Petrol| Individual|      Manual|Second Owner| 16.1 kmpl| 796 CC|    37 bhp|    4|   Y|\n",
      "|       9|    Toyota Etios VXD|2011|       350000|    90000|          California|  Los Angeles|Diesel| Individual|      Manual| First Owner|23.59 kmpl|1364 CC|  67.1 bhp|    5|   Y|\n",
      "|      10|Ford Figo Diesel ...|2013|       200000|   169000|               Texas|      Houston|Diesel| Individual|      Manual| First Owner| 20.0 kmpl|1399 CC|  68.1 bhp|    5|   Y|\n",
      "|      11|Renault Duster 11...|2014|       500000|    68000|            New York|New York City|Diesel| Individual|      Manual|Second Owner|19.01 kmpl|1461 CC|108.45 bhp|    5|   Y|\n",
      "|      12|       Maruti Zen LX|2005|        92000|   100000|               Texas|      Houston|Petrol| Individual|      Manual|Second Owner| 17.3 kmpl| 993 CC|    60 bhp|    5|   Y|\n",
      "|      13|Maruti Swift Dzir...|2009|       280000|   140000|               Texas|      Houston|Diesel| Individual|      Manual|Second Owner| 19.3 kmpl|1248 CC|  73.9 bhp|    5|   Y|\n",
      "|      15|Maruti Wagon R LX...|2009|       180000|    90000|       Massachusetts|       Boston|Petrol| Individual|      Manual|Second Owner| 18.9 kmpl|1061 CC|    67 bhp|    5|   Y|\n",
      "|      16|Mahindra KUV 100 ...|2016|       400000|    40000|       Massachusetts|       Boston|Petrol| Individual|      Manual| First Owner|18.15 kmpl|1198 CC|    82 bhp|    5|   Y|\n",
      "|      17|Maruti Ertiga SHV...|2016|       778000|    70000|               Texas|       Dallas|Diesel| Individual|      Manual|Second Owner|24.52 kmpl|1248 CC|  88.5 bhp|    7|   Y|\n",
      "|      18|Hyundai i20 1.4 C...|2012|       500000|    53000|               Texas|       Dallas|Diesel| Individual|      Manual|Second Owner| 23.0 kmpl|1396 CC|    90 bhp|    5|   Y|\n",
      "|      19|      Maruti Alto LX|2002|       150000|    80000|               Texas|       Dallas|Petrol| Individual|      Manual|Second Owner| 19.7 kmpl| 796 CC|  46.3 bhp|    5|   Y|\n",
      "|      20|Hyundai i20 2015-...|2016|       680000|   100000|            New York|New York City|Diesel| Individual|      Manual| First Owner|22.54 kmpl|1396 CC| 88.73 bhp|    5|   Y|\n",
      "|      21|Mahindra Verito 1...|2011|       174000|   100000|            New York|New York City|Diesel| Individual|      Manual|Second Owner| 21.0 kmpl|1461 CC|  64.1 bhp|    5|   Y|\n",
      "+--------+--------------------+----+-------------+---------+--------------------+-------------+------+-----------+------------+------------+----------+-------+----------+-----+----+\n",
      "only showing top 20 rows\n",
      "\n"
     ]
    }
   ],
   "source": [
    "# Save df to a new table in Hive\n",
    "New_cars.write.mode(\"overwrite\").saveAsTable(\"New_cars\")\n",
    "# Show the results using SELECT\n",
    "spark.sql(\"select * from New_cars\").show() "
   ]
  },
  {
   "cell_type": "code",
   "execution_count": null,
   "metadata": {},
   "outputs": [],
   "source": []
  }
 ],
 "metadata": {
  "kernelspec": {
   "display_name": "Python 3",
   "language": "python",
   "name": "python3"
  },
  "language_info": {
   "codemirror_mode": {
    "name": "ipython",
    "version": 3
   },
   "file_extension": ".py",
   "mimetype": "text/x-python",
   "name": "python",
   "nbconvert_exporter": "python",
   "pygments_lexer": "ipython3",
   "version": "3.8.8"
  }
 },
 "nbformat": 4,
 "nbformat_minor": 2
}
